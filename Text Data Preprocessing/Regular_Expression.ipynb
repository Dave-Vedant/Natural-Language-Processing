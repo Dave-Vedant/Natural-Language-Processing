{
  "nbformat": 4,
  "nbformat_minor": 0,
  "metadata": {
    "kernelspec": {
      "display_name": "Python 3",
      "language": "python",
      "name": "python3"
    },
    "language_info": {
      "codemirror_mode": {
        "name": "ipython",
        "version": 3
      },
      "file_extension": ".py",
      "mimetype": "text/x-python",
      "name": "python",
      "nbconvert_exporter": "python",
      "pygments_lexer": "ipython3",
      "version": "3.5.3"
    },
    "colab": {
      "name": "Regular_Expression.ipynb",
      "provenance": [],
      "collapsed_sections": [],
      "toc_visible": true,
      "include_colab_link": true
    }
  },
  "cells": [
    {
      "cell_type": "markdown",
      "metadata": {
        "id": "view-in-github",
        "colab_type": "text"
      },
      "source": [
        "<a href=\"https://colab.research.google.com/github/vedantdave77/Natural_Laguage_Processing/blob/master/Regular_Expression.ipynb\" target=\"_parent\"><img src=\"https://colab.research.google.com/assets/colab-badge.svg\" alt=\"Open In Colab\"/></a>"
      ]
    },
    {
      "cell_type": "markdown",
      "metadata": {
        "id": "Z0Jl61xCgJvf",
        "colab_type": "text"
      },
      "source": [
        "# NLP Basics: Learning how to use regular expressions"
      ]
    },
    {
      "cell_type": "markdown",
      "metadata": {
        "id": "m32rqHKmgJvk",
        "colab_type": "text"
      },
      "source": [
        "### Using regular expressions in Python\n",
        "\n",
        "Python's `re` package is the most commonly used regex resource. More details can be found [here](https://docs.python.org/3/library/re.html)."
      ]
    },
    {
      "cell_type": "code",
      "metadata": {
        "id": "Uecc3Vn0gJvm",
        "colab_type": "code",
        "colab": {}
      },
      "source": [
        "import re\n",
        "\n",
        "re_test = 'This is a made up string to test 2 different regex methods'\n",
        "re_test_messy = 'This      is a made up     string to test 2    different regex methods'\n",
        "re_test_messy1 = 'This-is-a-made/up.string*to>>>>test----2\"\"\"\"\"\"different~regex-methods'"
      ],
      "execution_count": 0,
      "outputs": []
    },
    {
      "cell_type": "markdown",
      "metadata": {
        "id": "zfcouBYGgJvq",
        "colab_type": "text"
      },
      "source": [
        "### Splitting a sentence into a list of words"
      ]
    },
    {
      "cell_type": "code",
      "metadata": {
        "id": "LxKHXASugJvr",
        "colab_type": "code",
        "outputId": "9cfb46f9-e51b-42df-90c0-8a5844742e7d",
        "colab": {
          "base_uri": "https://localhost:8080/",
          "height": 225
        }
      },
      "source": [
        "re_test.split()"
      ],
      "execution_count": 2,
      "outputs": [
        {
          "output_type": "execute_result",
          "data": {
            "text/plain": [
              "['This',\n",
              " 'is',\n",
              " 'a',\n",
              " 'made',\n",
              " 'up',\n",
              " 'string',\n",
              " 'to',\n",
              " 'test',\n",
              " '2',\n",
              " 'different',\n",
              " 'regex',\n",
              " 'methods']"
            ]
          },
          "metadata": {
            "tags": []
          },
          "execution_count": 2
        }
      ]
    },
    {
      "cell_type": "code",
      "metadata": {
        "id": "t3GR1x6XiNS5",
        "colab_type": "code",
        "outputId": "2dca8ccc-f41d-4c1d-916a-85dc46688083",
        "colab": {
          "base_uri": "https://localhost:8080/",
          "height": 225
        }
      },
      "source": [
        "re.split('\\s+',re_test_messy)   # space any kind with + or - some "
      ],
      "execution_count": 27,
      "outputs": [
        {
          "output_type": "execute_result",
          "data": {
            "text/plain": [
              "['This',\n",
              " 'is',\n",
              " 'a',\n",
              " 'made',\n",
              " 'up',\n",
              " 'string',\n",
              " 'to',\n",
              " 'test',\n",
              " '2',\n",
              " 'different',\n",
              " 'regex',\n",
              " 'methods']"
            ]
          },
          "metadata": {
            "tags": []
          },
          "execution_count": 27
        }
      ]
    },
    {
      "cell_type": "code",
      "metadata": {
        "id": "xFZdSmh5iNKU",
        "colab_type": "code",
        "outputId": "40e0c1da-03bd-4ad0-dc73-86a4c300356d",
        "colab": {
          "base_uri": "https://localhost:8080/",
          "height": 225
        }
      },
      "source": [
        "re.split('\\W+',re_test_messy1) #without word"
      ],
      "execution_count": 22,
      "outputs": [
        {
          "output_type": "execute_result",
          "data": {
            "text/plain": [
              "['This',\n",
              " 'is',\n",
              " 'a',\n",
              " 'made',\n",
              " 'up',\n",
              " 'string',\n",
              " 'to',\n",
              " 'test',\n",
              " '2',\n",
              " 'different',\n",
              " 'regex',\n",
              " 'methods']"
            ]
          },
          "metadata": {
            "tags": []
          },
          "execution_count": 22
        }
      ]
    },
    {
      "cell_type": "code",
      "metadata": {
        "id": "nss7DAOojjU_",
        "colab_type": "code",
        "colab": {
          "base_uri": "https://localhost:8080/",
          "height": 225
        },
        "outputId": "b105d498-eab6-4dac-f2a9-39017924cbd8"
      },
      "source": [
        "re.findall('\\S+',re_test_messy)"
      ],
      "execution_count": 20,
      "outputs": [
        {
          "output_type": "execute_result",
          "data": {
            "text/plain": [
              "['This',\n",
              " 'is',\n",
              " 'a',\n",
              " 'made',\n",
              " 'up',\n",
              " 'string',\n",
              " 'to',\n",
              " 'test',\n",
              " '2',\n",
              " 'different',\n",
              " 'regex',\n",
              " 'methods']"
            ]
          },
          "metadata": {
            "tags": []
          },
          "execution_count": 20
        }
      ]
    },
    {
      "cell_type": "code",
      "metadata": {
        "id": "aztSo5lojjRO",
        "colab_type": "code",
        "colab": {
          "base_uri": "https://localhost:8080/",
          "height": 225
        },
        "outputId": "df04c7c0-8813-4772-b454-e1af5dde263e"
      },
      "source": [
        "re.findall('\\w+',re_test_messy1)"
      ],
      "execution_count": 29,
      "outputs": [
        {
          "output_type": "execute_result",
          "data": {
            "text/plain": [
              "['This',\n",
              " 'is',\n",
              " 'a',\n",
              " 'made',\n",
              " 'up',\n",
              " 'string',\n",
              " 'to',\n",
              " 'test',\n",
              " '2',\n",
              " 'different',\n",
              " 'regex',\n",
              " 'methods']"
            ]
          },
          "metadata": {
            "tags": []
          },
          "execution_count": 29
        }
      ]
    },
    {
      "cell_type": "markdown",
      "metadata": {
        "id": "GeNZ7wjJgJvv",
        "colab_type": "text"
      },
      "source": [
        "### Replacing a specific string"
      ]
    },
    {
      "cell_type": "code",
      "metadata": {
        "id": "EeWVgNiwgJvx",
        "colab_type": "code",
        "colab": {}
      },
      "source": [
        "pep8_test = 'I try to follow PEP8 guidelines'\n",
        "pep7_test = 'I try to follow PEP7 guidelines'\n",
        "peep8_test = 'I try to follow PEEP8 guidelines'"
      ],
      "execution_count": 0,
      "outputs": []
    },
    {
      "cell_type": "code",
      "metadata": {
        "id": "MvSksj7if65T",
        "colab_type": "code",
        "colab": {}
      },
      "source": [
        "import re"
      ],
      "execution_count": 0,
      "outputs": []
    },
    {
      "cell_type": "code",
      "metadata": {
        "id": "ToImPvVxgJv0",
        "colab_type": "code",
        "colab": {
          "base_uri": "https://localhost:8080/",
          "height": 35
        },
        "outputId": "16172941-31ef-43ec-c15b-da38284b5bf6"
      },
      "source": [
        "re.findall('[a-z]+',pep7_test) # only lower case"
      ],
      "execution_count": 33,
      "outputs": [
        {
          "output_type": "execute_result",
          "data": {
            "text/plain": [
              "['try', 'to', 'follow', 'guidelines']"
            ]
          },
          "metadata": {
            "tags": []
          },
          "execution_count": 33
        }
      ]
    },
    {
      "cell_type": "code",
      "metadata": {
        "id": "dpkdLH4yhwRT",
        "colab_type": "code",
        "colab": {
          "base_uri": "https://localhost:8080/",
          "height": 35
        },
        "outputId": "48265abe-43ce-4a5d-e5ab-06c272790d78"
      },
      "source": [
        "re.findall('[A-Z]+',pep7_test) # only upper case"
      ],
      "execution_count": 35,
      "outputs": [
        {
          "output_type": "execute_result",
          "data": {
            "text/plain": [
              "['I', 'PEP']"
            ]
          },
          "metadata": {
            "tags": []
          },
          "execution_count": 35
        }
      ]
    },
    {
      "cell_type": "code",
      "metadata": {
        "id": "p6rkgQnLhwN_",
        "colab_type": "code",
        "colab": {
          "base_uri": "https://localhost:8080/",
          "height": 35
        },
        "outputId": "54c2562f-5271-4f76-a648-0c8fdb164e5a"
      },
      "source": [
        "re.findall('[A-Z]+[0-9]+',peep8_test) #which have upper case with number "
      ],
      "execution_count": 40,
      "outputs": [
        {
          "output_type": "execute_result",
          "data": {
            "text/plain": [
              "['PEEP8']"
            ]
          },
          "metadata": {
            "tags": []
          },
          "execution_count": 40
        }
      ]
    },
    {
      "cell_type": "code",
      "metadata": {
        "id": "L5FTy8Kgib1T",
        "colab_type": "code",
        "colab": {
          "base_uri": "https://localhost:8080/",
          "height": 35
        },
        "outputId": "e8c822fc-2d7b-408c-8496-77718e6382b3"
      },
      "source": [
        "re.sub('[A-Z]+[0-9]+', 'peep8 python style testset',peep8_test)"
      ],
      "execution_count": 41,
      "outputs": [
        {
          "output_type": "execute_result",
          "data": {
            "text/plain": [
              "'I try to follow peep8 python style testset guidelines'"
            ]
          },
          "metadata": {
            "tags": []
          },
          "execution_count": 41
        }
      ]
    },
    {
      "cell_type": "code",
      "metadata": {
        "id": "NZ2ocdq3ibx8",
        "colab_type": "code",
        "colab": {}
      },
      "source": [
        "re.fullmatch('[A-Z]+[0-9]+',peep8_test)"
      ],
      "execution_count": 0,
      "outputs": []
    },
    {
      "cell_type": "markdown",
      "metadata": {
        "collapsed": true,
        "id": "Zfzv2tGAgJv3",
        "colab_type": "text"
      },
      "source": [
        "### Other examples of regex methods\n",
        "\n",
        "- re.search()\n",
        "- re.match()\n",
        "- re.fullmatch()\n",
        "- re.finditer()\n",
        "- re.escape()"
      ]
    },
    {
      "cell_type": "code",
      "metadata": {
        "id": "rxjLniezia1L",
        "colab_type": "code",
        "colab": {}
      },
      "source": [
        ""
      ],
      "execution_count": 0,
      "outputs": []
    }
  ]
}